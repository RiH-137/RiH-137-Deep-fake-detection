{
 "cells": [
  {
   "cell_type": "markdown",
   "id": "1690a420-960b-4657-8f77-d03ea8eae17e",
   "metadata": {},
   "source": [
    "🎵 MFCC stands for Mel-Frequency Cepstral Coefficients.\n",
    "It's one of the most popular audio features used in speech and audio processing tasks — like speech recognition, voice classification, and deepfake detection.\n",
    "\n",
    "🔍 What does MFCC do?\n",
    "MFCC converts a raw audio waveform into a compact, meaningful representation that captures the important characteristics of human speech.\n",
    "\n",
    "🧠 Why MFCC is useful:\n",
    "Human hearing is non-linear — MFCC mimics how our ears perceive sound (especially speech).\n",
    "\n",
    "It focuses on frequencies between 300Hz–3400Hz, which is where human voice typically lies.\n",
    "\n",
    "It reduces data while preserving what matters most for recognizing speech or voice identity.\n",
    "\n",
    "🧬 How it's computed (Simplified):\n",
    "Split audio into small frames.\n",
    "\n",
    "Apply FFT (Fast Fourier Transform) to convert to frequency domain.\n",
    "\n",
    "Map to Mel scale (a perceptual scale).\n",
    "\n",
    "Take the log of the powers at each Mel frequency.\n",
    "\n",
    "Apply DCT (Discrete Cosine Transform) → gives MFCCs.\n",
    "\n",
    "🔢 MFCC Output:\n",
    "A 2D matrix: (n_mfcc, time_steps)\n",
    "\n",
    "You typically extract 13 to 40 MFCCs per time frame.\n",
    "\n",
    "It captures how sound frequencies change over time, like a \"voice fingerprint\".\n",
    "\n",
    "📊 Visual Example:\n",
    "Looks like this:\n",
    "\n",
    "less\n",
    "Copy\n",
    "Edit\n",
    "MFCC shape: (40, 862)\n",
    "40 coefficients across 862 time steps\n",
    "You can even visualize it like a spectrogram, showing how vocal patterns evolve."
   ]
  },
  {
   "cell_type": "code",
   "execution_count": 6,
   "id": "bacf3b26-3145-4c29-b2bc-676a15624406",
   "metadata": {},
   "outputs": [
    {
     "name": "stdout",
     "output_type": "stream",
     "text": [
      "TensorFlow version: 2.18.0\n"
     ]
    }
   ],
   "source": [
    "# 📦 1. Imports\n",
    "import os\n",
    "import numpy as np\n",
    "import librosa\n",
    "import librosa.display\n",
    "import matplotlib.pyplot as plt\n",
    "import seaborn as sns\n",
    "\n",
    "from sklearn.model_selection import train_test_split\n",
    "from sklearn.metrics import classification_report, confusion_matrix\n",
    "\n",
    "import tensorflow as tf\n",
    "from tensorflow.keras.models import Sequential\n",
    "from tensorflow.keras.layers import Dense, Dropout, Flatten, Conv2D, MaxPooling2D\n",
    "from tensorflow.keras.optimizers import Adam\n",
    "\n",
    "print(\"TensorFlow version:\", tf.__version__)"
   ]
  },
  {
   "cell_type": "code",
   "execution_count": null,
   "id": "4548c08c-a8fe-4746-b52f-0bb36ea2c525",
   "metadata": {},
   "outputs": [],
   "source": []
  },
  {
   "cell_type": "code",
   "execution_count": 2,
   "id": "21f1393d-8566-43e2-8b5b-f39def13b94b",
   "metadata": {},
   "outputs": [],
   "source": [
    "## data preprocessing"
   ]
  },
  {
   "cell_type": "code",
   "execution_count": 9,
   "id": "fae5ad12-0503-4577-a7a9-69b3b7b82653",
   "metadata": {},
   "outputs": [],
   "source": [
    "#Feature Extraction Function\n",
    "\n",
    "def extract_features(file_path, max_pad_len=862):\n",
    "    try:\n",
    "        audio, sample_rate = librosa.load(file_path, sr=22050)\n",
    "        mfccs = librosa.feature.mfcc(y=audio, sr=sample_rate, n_mfcc=40)\n",
    "        if mfccs.shape[1] < max_pad_len:\n",
    "            pad_width = max_pad_len - mfccs.shape[1]\n",
    "            mfccs = np.pad(mfccs, pad_width=((0, 0), (0, pad_width)), mode='constant')\n",
    "        else:\n",
    "            mfccs = mfccs[:, :max_pad_len]\n",
    "        return mfccs\n",
    "    except Exception as e:\n",
    "        print(f\"Error encountered while parsing file: {file_path}\")\n",
    "        return None\n"
   ]
  },
  {
   "cell_type": "code",
   "execution_count": 12,
   "id": "d2775d93-07ae-4e2a-84f3-97248b7529a3",
   "metadata": {},
   "outputs": [
    {
     "name": "stdout",
     "output_type": "stream",
     "text": [
      "Data shape: (64, 40, 862, 1), Labels shape: (64,)\n"
     ]
    }
   ],
   "source": [
    "# Load Dataset\n",
    "\n",
    "dataset_path = r\"C:\\Users\\101ri\\OneDrive\\Desktop\\New DeepFake\\audio_fake\\AUDIO\"\n",
    "labels = []\n",
    "data = []\n",
    "\n",
    "for label in ['real', 'fake']:\n",
    "    folder_path = os.path.join(dataset_path, label)\n",
    "    for file in os.listdir(folder_path):\n",
    "        if file.endswith(\".wav\"):\n",
    "            file_path = os.path.join(folder_path, file)\n",
    "            features = extract_features(file_path)\n",
    "            if features is not None:\n",
    "                data.append(features)\n",
    "                labels.append(0 if label == 'real' else 1)\n",
    "\n",
    "X = np.array(data)\n",
    "y = np.array(labels)\n",
    "X = X[..., np.newaxis]  # CNN input shape\n",
    "print(f\"Data shape: {X.shape}, Labels shape: {y.shape}\")\n"
   ]
  },
  {
   "cell_type": "code",
   "execution_count": null,
   "id": "625f3262-1220-4e8a-9cd3-83a450074465",
   "metadata": {},
   "outputs": [],
   "source": []
  },
  {
   "cell_type": "code",
   "execution_count": 13,
   "id": "db31826f-cce9-4451-b2a0-d0329c39d905",
   "metadata": {},
   "outputs": [],
   "source": [
    "# Train-Test Split\n",
    "\n",
    "X_train, X_test, y_train, y_test = train_test_split(X, y, test_size=0.2, random_state=42)"
   ]
  },
  {
   "cell_type": "code",
   "execution_count": 14,
   "id": "c51a0b8c-9f01-4a38-9d7c-98b252e32236",
   "metadata": {},
   "outputs": [
    {
     "data": {
      "text/plain": [
       "array([[[[-4.5680807e+02],\n",
       "         [-4.3406326e+02],\n",
       "         [-4.2552057e+02],\n",
       "         ...,\n",
       "         [-1.6016876e+02],\n",
       "         [-1.6786598e+02],\n",
       "         [-1.9322734e+02]],\n",
       "\n",
       "        [[ 4.5263611e+01],\n",
       "         [ 5.4959564e+01],\n",
       "         [ 7.0205643e+01],\n",
       "         ...,\n",
       "         [ 9.8656876e+01],\n",
       "         [ 6.3571217e+01],\n",
       "         [ 1.1825800e+01]],\n",
       "\n",
       "        [[ 1.4557164e+01],\n",
       "         [ 1.7480190e+01],\n",
       "         [ 2.9737387e+01],\n",
       "         ...,\n",
       "         [-3.7743576e+01],\n",
       "         [ 1.5351385e+01],\n",
       "         [ 6.5229210e+01]],\n",
       "\n",
       "        ...,\n",
       "\n",
       "        [[ 1.8098100e+00],\n",
       "         [ 1.4575789e+00],\n",
       "         [-3.2056515e+00],\n",
       "         ...,\n",
       "         [-2.2902351e-02],\n",
       "         [ 1.0199199e+01],\n",
       "         [ 9.7161751e+00]],\n",
       "\n",
       "        [[-2.3458505e+00],\n",
       "         [-1.5763160e+00],\n",
       "         [-3.2456908e+00],\n",
       "         ...,\n",
       "         [-1.6927215e+00],\n",
       "         [ 2.2323394e+00],\n",
       "         [ 8.9901047e+00]],\n",
       "\n",
       "        [[-5.1375542e+00],\n",
       "         [-1.9227620e+00],\n",
       "         [ 1.2369499e+00],\n",
       "         ...,\n",
       "         [ 8.2995719e-01],\n",
       "         [ 4.3542428e+00],\n",
       "         [ 1.2562908e+01]]],\n",
       "\n",
       "\n",
       "       [[[-3.2812161e+02],\n",
       "         [-2.3815791e+02],\n",
       "         [-2.0356769e+02],\n",
       "         ...,\n",
       "         [-3.3722302e+02],\n",
       "         [-2.9031342e+02],\n",
       "         [-2.4321866e+02]],\n",
       "\n",
       "        [[ 1.9216774e+01],\n",
       "         [ 5.1201653e+01],\n",
       "         [ 1.0136224e+02],\n",
       "         ...,\n",
       "         [ 1.1197769e+02],\n",
       "         [ 1.0058706e+02],\n",
       "         [ 8.0750381e+01]],\n",
       "\n",
       "        [[ 6.1072830e+01],\n",
       "         [ 2.2893112e+01],\n",
       "         [-1.0529536e+01],\n",
       "         ...,\n",
       "         [ 2.7759317e+01],\n",
       "         [-2.0135021e-01],\n",
       "         [-4.8944225e+01]],\n",
       "\n",
       "        ...,\n",
       "\n",
       "        [[-1.0111274e+00],\n",
       "         [-7.2137671e+00],\n",
       "         [-8.9067097e+00],\n",
       "         ...,\n",
       "         [-2.7821064e+00],\n",
       "         [-3.2433093e+00],\n",
       "         [-5.0471501e+00]],\n",
       "\n",
       "        [[-6.0313387e+00],\n",
       "         [-6.1624603e+00],\n",
       "         [-2.0296445e+00],\n",
       "         ...,\n",
       "         [-3.3490143e+00],\n",
       "         [-2.1302121e+00],\n",
       "         [-3.0863926e+00]],\n",
       "\n",
       "        [[ 9.0741253e-01],\n",
       "         [ 1.5159702e+00],\n",
       "         [ 3.0042517e+00],\n",
       "         ...,\n",
       "         [-2.0181181e+00],\n",
       "         [ 1.8508112e+00],\n",
       "         [ 1.4615319e+00]]],\n",
       "\n",
       "\n",
       "       [[[-5.2737555e+02],\n",
       "         [-5.2776379e+02],\n",
       "         [-5.2788000e+02],\n",
       "         ...,\n",
       "         [-3.9150720e+02],\n",
       "         [-3.9437534e+02],\n",
       "         [-3.9859958e+02]],\n",
       "\n",
       "        [[ 2.3277302e+00],\n",
       "         [ 1.7790751e+00],\n",
       "         [ 1.6147003e+00],\n",
       "         ...,\n",
       "         [ 6.1419846e+01],\n",
       "         [ 6.6918015e+01],\n",
       "         [ 6.6722122e+01]],\n",
       "\n",
       "        [[ 2.3261380e+00],\n",
       "         [ 1.7786733e+00],\n",
       "         [ 1.6143360e+00],\n",
       "         ...,\n",
       "         [ 1.3709675e+01],\n",
       "         [ 1.1326559e+01],\n",
       "         [ 8.2356548e+00]],\n",
       "\n",
       "        ...,\n",
       "\n",
       "        [[ 1.6867064e+00],\n",
       "         [ 1.5989299e+00],\n",
       "         [ 1.4511993e+00],\n",
       "         ...,\n",
       "         [ 2.3709290e+00],\n",
       "         [-3.5536690e+00],\n",
       "         [-2.0700688e+00]],\n",
       "\n",
       "        [[ 1.6561551e+00],\n",
       "         [ 1.5892328e+00],\n",
       "         [ 1.4423985e+00],\n",
       "         ...,\n",
       "         [ 6.7047791e+00],\n",
       "         [ 4.4191513e+00],\n",
       "         [-1.4102033e+00]],\n",
       "\n",
       "        [[ 1.6252489e+00],\n",
       "         [ 1.5792966e+00],\n",
       "         [ 1.4333799e+00],\n",
       "         ...,\n",
       "         [-4.5752889e-01],\n",
       "         [ 4.8681116e+00],\n",
       "         [ 1.6299889e+00]]],\n",
       "\n",
       "\n",
       "       ...,\n",
       "\n",
       "\n",
       "       [[[-2.6209204e+02],\n",
       "         [-2.3531856e+02],\n",
       "         [-2.3208704e+02],\n",
       "         ...,\n",
       "         [-2.5247412e+02],\n",
       "         [-2.5186368e+02],\n",
       "         [-2.4862274e+02]],\n",
       "\n",
       "        [[ 8.4279236e+01],\n",
       "         [ 7.6506226e+01],\n",
       "         [ 7.6458694e+01],\n",
       "         ...,\n",
       "         [ 1.2072435e+02],\n",
       "         [ 1.3039607e+02],\n",
       "         [ 1.3298801e+02]],\n",
       "\n",
       "        [[-4.0360657e+01],\n",
       "         [-3.9437744e+01],\n",
       "         [-4.1046352e+01],\n",
       "         ...,\n",
       "         [ 4.8349771e+00],\n",
       "         [ 3.5231152e-01],\n",
       "         [-5.8079362e-01]],\n",
       "\n",
       "        ...,\n",
       "\n",
       "        [[-1.3172932e+00],\n",
       "         [-2.8714225e+00],\n",
       "         [-4.3762169e+00],\n",
       "         ...,\n",
       "         [-3.8177414e+00],\n",
       "         [-3.0090365e+00],\n",
       "         [-4.2683215e+00]],\n",
       "\n",
       "        [[-7.1337533e+00],\n",
       "         [-9.8427391e+00],\n",
       "         [-1.1328825e+01],\n",
       "         ...,\n",
       "         [-6.3751807e+00],\n",
       "         [-4.5700665e+00],\n",
       "         [-5.6499767e+00]],\n",
       "\n",
       "        [[-1.0323836e+00],\n",
       "         [-4.4468837e+00],\n",
       "         [-7.9133763e+00],\n",
       "         ...,\n",
       "         [-1.8670253e+00],\n",
       "         [ 1.3275316e+00],\n",
       "         [ 6.6321445e-01]]],\n",
       "\n",
       "\n",
       "       [[[-6.8028918e+02],\n",
       "         [-6.8025427e+02],\n",
       "         [-6.8035016e+02],\n",
       "         ...,\n",
       "         [-4.5445477e+02],\n",
       "         [-4.6077612e+02],\n",
       "         [-4.7393491e+02]],\n",
       "\n",
       "        [[ 3.2233196e-01],\n",
       "         [ 3.7172475e-01],\n",
       "         [ 2.3613201e-01],\n",
       "         ...,\n",
       "         [ 4.8742477e+01],\n",
       "         [ 5.4295273e+01],\n",
       "         [ 5.2877960e+01]],\n",
       "\n",
       "        [[ 3.2225913e-01],\n",
       "         [ 3.7164077e-01],\n",
       "         [ 2.3607866e-01],\n",
       "         ...,\n",
       "         [ 4.4917870e+01],\n",
       "         [ 4.3406860e+01],\n",
       "         [ 4.4573639e+01]],\n",
       "\n",
       "        ...,\n",
       "\n",
       "        [[ 2.8969333e-01],\n",
       "         [ 3.3408469e-01],\n",
       "         [ 2.1222177e-01],\n",
       "         ...,\n",
       "         [-3.7648296e-01],\n",
       "         [-2.4589577e+00],\n",
       "         [ 5.3993684e-01]],\n",
       "\n",
       "        [[ 2.8793642e-01],\n",
       "         [ 3.3205858e-01],\n",
       "         [ 2.1093473e-01],\n",
       "         ...,\n",
       "         [-2.7950370e+00],\n",
       "         [ 3.1166198e-02],\n",
       "         [-1.3939090e+00]],\n",
       "\n",
       "        [[ 2.8613615e-01],\n",
       "         [ 3.2998246e-01],\n",
       "         [ 2.0961592e-01],\n",
       "         ...,\n",
       "         [-1.5049387e+00],\n",
       "         [-1.8303105e+00],\n",
       "         [-1.5871110e+00]]],\n",
       "\n",
       "\n",
       "       [[[-4.0589944e+02],\n",
       "         [-3.8204697e+02],\n",
       "         [-4.0525992e+02],\n",
       "         ...,\n",
       "         [-2.9999524e+02],\n",
       "         [-3.0414227e+02],\n",
       "         [-3.0487955e+02]],\n",
       "\n",
       "        [[ 3.4001549e+01],\n",
       "         [ 3.9039467e+01],\n",
       "         [ 3.6305004e+01],\n",
       "         ...,\n",
       "         [ 8.5377274e+01],\n",
       "         [ 8.1107315e+01],\n",
       "         [ 7.8865952e+01]],\n",
       "\n",
       "        [[-2.7637602e+01],\n",
       "         [-3.8847153e+01],\n",
       "         [-3.6357941e+01],\n",
       "         ...,\n",
       "         [-8.0563507e+01],\n",
       "         [-8.1748672e+01],\n",
       "         [-8.5658096e+01]],\n",
       "\n",
       "        ...,\n",
       "\n",
       "        [[-3.0754364e-01],\n",
       "         [ 3.3338079e+00],\n",
       "         [ 6.0726237e+00],\n",
       "         ...,\n",
       "         [ 8.2658300e+00],\n",
       "         [ 3.6732771e+00],\n",
       "         [ 2.2364099e+00]],\n",
       "\n",
       "        [[-1.8692613e-03],\n",
       "         [ 3.0750275e-02],\n",
       "         [-3.1855345e-02],\n",
       "         ...,\n",
       "         [-1.7460763e-01],\n",
       "         [-5.7913055e+00],\n",
       "         [-4.6462622e+00]],\n",
       "\n",
       "        [[ 2.9573364e+00],\n",
       "         [ 3.0262046e+00],\n",
       "         [ 2.1450806e+00],\n",
       "         ...,\n",
       "         [-1.1403198e+00],\n",
       "         [-4.0263762e+00],\n",
       "         [-2.4808068e+00]]]], dtype=float32)"
      ]
     },
     "execution_count": 14,
     "metadata": {},
     "output_type": "execute_result"
    }
   ],
   "source": [
    "X_train"
   ]
  },
  {
   "cell_type": "code",
   "execution_count": 15,
   "id": "065b06a8-917d-4444-af76-429ecbc6a0f9",
   "metadata": {},
   "outputs": [
    {
     "name": "stderr",
     "output_type": "stream",
     "text": [
      "C:\\Program Files\\Drag Software\\Anaconda\\Lib\\site-packages\\keras\\src\\layers\\convolutional\\base_conv.py:107: UserWarning: Do not pass an `input_shape`/`input_dim` argument to a layer. When using Sequential models, prefer using an `Input(shape)` object as the first layer in the model instead.\n",
      "  super().__init__(activity_regularizer=activity_regularizer, **kwargs)\n"
     ]
    },
    {
     "data": {
      "text/html": [
       "<pre style=\"white-space:pre;overflow-x:auto;line-height:normal;font-family:Menlo,'DejaVu Sans Mono',consolas,'Courier New',monospace\"><span style=\"font-weight: bold\">Model: \"sequential\"</span>\n",
       "</pre>\n"
      ],
      "text/plain": [
       "\u001b[1mModel: \"sequential\"\u001b[0m\n"
      ]
     },
     "metadata": {},
     "output_type": "display_data"
    },
    {
     "data": {
      "text/html": [
       "<pre style=\"white-space:pre;overflow-x:auto;line-height:normal;font-family:Menlo,'DejaVu Sans Mono',consolas,'Courier New',monospace\">┏━━━━━━━━━━━━━━━━━━━━━━━━━━━━━━━━━━━━━━┳━━━━━━━━━━━━━━━━━━━━━━━━━━━━━┳━━━━━━━━━━━━━━━━━┓\n",
       "┃<span style=\"font-weight: bold\"> Layer (type)                         </span>┃<span style=\"font-weight: bold\"> Output Shape                </span>┃<span style=\"font-weight: bold\">         Param # </span>┃\n",
       "┡━━━━━━━━━━━━━━━━━━━━━━━━━━━━━━━━━━━━━━╇━━━━━━━━━━━━━━━━━━━━━━━━━━━━━╇━━━━━━━━━━━━━━━━━┩\n",
       "│ conv2d (<span style=\"color: #0087ff; text-decoration-color: #0087ff\">Conv2D</span>)                      │ (<span style=\"color: #00d7ff; text-decoration-color: #00d7ff\">None</span>, <span style=\"color: #00af00; text-decoration-color: #00af00\">38</span>, <span style=\"color: #00af00; text-decoration-color: #00af00\">860</span>, <span style=\"color: #00af00; text-decoration-color: #00af00\">32</span>)         │             <span style=\"color: #00af00; text-decoration-color: #00af00\">320</span> │\n",
       "├──────────────────────────────────────┼─────────────────────────────┼─────────────────┤\n",
       "│ max_pooling2d (<span style=\"color: #0087ff; text-decoration-color: #0087ff\">MaxPooling2D</span>)         │ (<span style=\"color: #00d7ff; text-decoration-color: #00d7ff\">None</span>, <span style=\"color: #00af00; text-decoration-color: #00af00\">19</span>, <span style=\"color: #00af00; text-decoration-color: #00af00\">430</span>, <span style=\"color: #00af00; text-decoration-color: #00af00\">32</span>)         │               <span style=\"color: #00af00; text-decoration-color: #00af00\">0</span> │\n",
       "├──────────────────────────────────────┼─────────────────────────────┼─────────────────┤\n",
       "│ dropout (<span style=\"color: #0087ff; text-decoration-color: #0087ff\">Dropout</span>)                    │ (<span style=\"color: #00d7ff; text-decoration-color: #00d7ff\">None</span>, <span style=\"color: #00af00; text-decoration-color: #00af00\">19</span>, <span style=\"color: #00af00; text-decoration-color: #00af00\">430</span>, <span style=\"color: #00af00; text-decoration-color: #00af00\">32</span>)         │               <span style=\"color: #00af00; text-decoration-color: #00af00\">0</span> │\n",
       "├──────────────────────────────────────┼─────────────────────────────┼─────────────────┤\n",
       "│ conv2d_1 (<span style=\"color: #0087ff; text-decoration-color: #0087ff\">Conv2D</span>)                    │ (<span style=\"color: #00d7ff; text-decoration-color: #00d7ff\">None</span>, <span style=\"color: #00af00; text-decoration-color: #00af00\">17</span>, <span style=\"color: #00af00; text-decoration-color: #00af00\">428</span>, <span style=\"color: #00af00; text-decoration-color: #00af00\">64</span>)         │          <span style=\"color: #00af00; text-decoration-color: #00af00\">18,496</span> │\n",
       "├──────────────────────────────────────┼─────────────────────────────┼─────────────────┤\n",
       "│ max_pooling2d_1 (<span style=\"color: #0087ff; text-decoration-color: #0087ff\">MaxPooling2D</span>)       │ (<span style=\"color: #00d7ff; text-decoration-color: #00d7ff\">None</span>, <span style=\"color: #00af00; text-decoration-color: #00af00\">8</span>, <span style=\"color: #00af00; text-decoration-color: #00af00\">214</span>, <span style=\"color: #00af00; text-decoration-color: #00af00\">64</span>)          │               <span style=\"color: #00af00; text-decoration-color: #00af00\">0</span> │\n",
       "├──────────────────────────────────────┼─────────────────────────────┼─────────────────┤\n",
       "│ dropout_1 (<span style=\"color: #0087ff; text-decoration-color: #0087ff\">Dropout</span>)                  │ (<span style=\"color: #00d7ff; text-decoration-color: #00d7ff\">None</span>, <span style=\"color: #00af00; text-decoration-color: #00af00\">8</span>, <span style=\"color: #00af00; text-decoration-color: #00af00\">214</span>, <span style=\"color: #00af00; text-decoration-color: #00af00\">64</span>)          │               <span style=\"color: #00af00; text-decoration-color: #00af00\">0</span> │\n",
       "├──────────────────────────────────────┼─────────────────────────────┼─────────────────┤\n",
       "│ flatten (<span style=\"color: #0087ff; text-decoration-color: #0087ff\">Flatten</span>)                    │ (<span style=\"color: #00d7ff; text-decoration-color: #00d7ff\">None</span>, <span style=\"color: #00af00; text-decoration-color: #00af00\">109568</span>)              │               <span style=\"color: #00af00; text-decoration-color: #00af00\">0</span> │\n",
       "├──────────────────────────────────────┼─────────────────────────────┼─────────────────┤\n",
       "│ dense (<span style=\"color: #0087ff; text-decoration-color: #0087ff\">Dense</span>)                        │ (<span style=\"color: #00d7ff; text-decoration-color: #00d7ff\">None</span>, <span style=\"color: #00af00; text-decoration-color: #00af00\">128</span>)                 │      <span style=\"color: #00af00; text-decoration-color: #00af00\">14,024,832</span> │\n",
       "├──────────────────────────────────────┼─────────────────────────────┼─────────────────┤\n",
       "│ dropout_2 (<span style=\"color: #0087ff; text-decoration-color: #0087ff\">Dropout</span>)                  │ (<span style=\"color: #00d7ff; text-decoration-color: #00d7ff\">None</span>, <span style=\"color: #00af00; text-decoration-color: #00af00\">128</span>)                 │               <span style=\"color: #00af00; text-decoration-color: #00af00\">0</span> │\n",
       "├──────────────────────────────────────┼─────────────────────────────┼─────────────────┤\n",
       "│ dense_1 (<span style=\"color: #0087ff; text-decoration-color: #0087ff\">Dense</span>)                      │ (<span style=\"color: #00d7ff; text-decoration-color: #00d7ff\">None</span>, <span style=\"color: #00af00; text-decoration-color: #00af00\">1</span>)                   │             <span style=\"color: #00af00; text-decoration-color: #00af00\">129</span> │\n",
       "└──────────────────────────────────────┴─────────────────────────────┴─────────────────┘\n",
       "</pre>\n"
      ],
      "text/plain": [
       "┏━━━━━━━━━━━━━━━━━━━━━━━━━━━━━━━━━━━━━━┳━━━━━━━━━━━━━━━━━━━━━━━━━━━━━┳━━━━━━━━━━━━━━━━━┓\n",
       "┃\u001b[1m \u001b[0m\u001b[1mLayer (type)                        \u001b[0m\u001b[1m \u001b[0m┃\u001b[1m \u001b[0m\u001b[1mOutput Shape               \u001b[0m\u001b[1m \u001b[0m┃\u001b[1m \u001b[0m\u001b[1m        Param #\u001b[0m\u001b[1m \u001b[0m┃\n",
       "┡━━━━━━━━━━━━━━━━━━━━━━━━━━━━━━━━━━━━━━╇━━━━━━━━━━━━━━━━━━━━━━━━━━━━━╇━━━━━━━━━━━━━━━━━┩\n",
       "│ conv2d (\u001b[38;5;33mConv2D\u001b[0m)                      │ (\u001b[38;5;45mNone\u001b[0m, \u001b[38;5;34m38\u001b[0m, \u001b[38;5;34m860\u001b[0m, \u001b[38;5;34m32\u001b[0m)         │             \u001b[38;5;34m320\u001b[0m │\n",
       "├──────────────────────────────────────┼─────────────────────────────┼─────────────────┤\n",
       "│ max_pooling2d (\u001b[38;5;33mMaxPooling2D\u001b[0m)         │ (\u001b[38;5;45mNone\u001b[0m, \u001b[38;5;34m19\u001b[0m, \u001b[38;5;34m430\u001b[0m, \u001b[38;5;34m32\u001b[0m)         │               \u001b[38;5;34m0\u001b[0m │\n",
       "├──────────────────────────────────────┼─────────────────────────────┼─────────────────┤\n",
       "│ dropout (\u001b[38;5;33mDropout\u001b[0m)                    │ (\u001b[38;5;45mNone\u001b[0m, \u001b[38;5;34m19\u001b[0m, \u001b[38;5;34m430\u001b[0m, \u001b[38;5;34m32\u001b[0m)         │               \u001b[38;5;34m0\u001b[0m │\n",
       "├──────────────────────────────────────┼─────────────────────────────┼─────────────────┤\n",
       "│ conv2d_1 (\u001b[38;5;33mConv2D\u001b[0m)                    │ (\u001b[38;5;45mNone\u001b[0m, \u001b[38;5;34m17\u001b[0m, \u001b[38;5;34m428\u001b[0m, \u001b[38;5;34m64\u001b[0m)         │          \u001b[38;5;34m18,496\u001b[0m │\n",
       "├──────────────────────────────────────┼─────────────────────────────┼─────────────────┤\n",
       "│ max_pooling2d_1 (\u001b[38;5;33mMaxPooling2D\u001b[0m)       │ (\u001b[38;5;45mNone\u001b[0m, \u001b[38;5;34m8\u001b[0m, \u001b[38;5;34m214\u001b[0m, \u001b[38;5;34m64\u001b[0m)          │               \u001b[38;5;34m0\u001b[0m │\n",
       "├──────────────────────────────────────┼─────────────────────────────┼─────────────────┤\n",
       "│ dropout_1 (\u001b[38;5;33mDropout\u001b[0m)                  │ (\u001b[38;5;45mNone\u001b[0m, \u001b[38;5;34m8\u001b[0m, \u001b[38;5;34m214\u001b[0m, \u001b[38;5;34m64\u001b[0m)          │               \u001b[38;5;34m0\u001b[0m │\n",
       "├──────────────────────────────────────┼─────────────────────────────┼─────────────────┤\n",
       "│ flatten (\u001b[38;5;33mFlatten\u001b[0m)                    │ (\u001b[38;5;45mNone\u001b[0m, \u001b[38;5;34m109568\u001b[0m)              │               \u001b[38;5;34m0\u001b[0m │\n",
       "├──────────────────────────────────────┼─────────────────────────────┼─────────────────┤\n",
       "│ dense (\u001b[38;5;33mDense\u001b[0m)                        │ (\u001b[38;5;45mNone\u001b[0m, \u001b[38;5;34m128\u001b[0m)                 │      \u001b[38;5;34m14,024,832\u001b[0m │\n",
       "├──────────────────────────────────────┼─────────────────────────────┼─────────────────┤\n",
       "│ dropout_2 (\u001b[38;5;33mDropout\u001b[0m)                  │ (\u001b[38;5;45mNone\u001b[0m, \u001b[38;5;34m128\u001b[0m)                 │               \u001b[38;5;34m0\u001b[0m │\n",
       "├──────────────────────────────────────┼─────────────────────────────┼─────────────────┤\n",
       "│ dense_1 (\u001b[38;5;33mDense\u001b[0m)                      │ (\u001b[38;5;45mNone\u001b[0m, \u001b[38;5;34m1\u001b[0m)                   │             \u001b[38;5;34m129\u001b[0m │\n",
       "└──────────────────────────────────────┴─────────────────────────────┴─────────────────┘\n"
      ]
     },
     "metadata": {},
     "output_type": "display_data"
    },
    {
     "data": {
      "text/html": [
       "<pre style=\"white-space:pre;overflow-x:auto;line-height:normal;font-family:Menlo,'DejaVu Sans Mono',consolas,'Courier New',monospace\"><span style=\"font-weight: bold\"> Total params: </span><span style=\"color: #00af00; text-decoration-color: #00af00\">14,043,777</span> (53.57 MB)\n",
       "</pre>\n"
      ],
      "text/plain": [
       "\u001b[1m Total params: \u001b[0m\u001b[38;5;34m14,043,777\u001b[0m (53.57 MB)\n"
      ]
     },
     "metadata": {},
     "output_type": "display_data"
    },
    {
     "data": {
      "text/html": [
       "<pre style=\"white-space:pre;overflow-x:auto;line-height:normal;font-family:Menlo,'DejaVu Sans Mono',consolas,'Courier New',monospace\"><span style=\"font-weight: bold\"> Trainable params: </span><span style=\"color: #00af00; text-decoration-color: #00af00\">14,043,777</span> (53.57 MB)\n",
       "</pre>\n"
      ],
      "text/plain": [
       "\u001b[1m Trainable params: \u001b[0m\u001b[38;5;34m14,043,777\u001b[0m (53.57 MB)\n"
      ]
     },
     "metadata": {},
     "output_type": "display_data"
    },
    {
     "data": {
      "text/html": [
       "<pre style=\"white-space:pre;overflow-x:auto;line-height:normal;font-family:Menlo,'DejaVu Sans Mono',consolas,'Courier New',monospace\"><span style=\"font-weight: bold\"> Non-trainable params: </span><span style=\"color: #00af00; text-decoration-color: #00af00\">0</span> (0.00 B)\n",
       "</pre>\n"
      ],
      "text/plain": [
       "\u001b[1m Non-trainable params: \u001b[0m\u001b[38;5;34m0\u001b[0m (0.00 B)\n"
      ]
     },
     "metadata": {},
     "output_type": "display_data"
    }
   ],
   "source": [
    "## building model\n",
    "\n",
    "model = Sequential([\n",
    "    Conv2D(32, kernel_size=(3, 3), activation='relu', input_shape=X.shape[1:]),\n",
    "    MaxPooling2D(pool_size=(2, 2)),\n",
    "    Dropout(0.3),\n",
    "\n",
    "    Conv2D(64, kernel_size=(3, 3), activation='relu'),\n",
    "    MaxPooling2D(pool_size=(2, 2)),\n",
    "    Dropout(0.3),\n",
    "\n",
    "    Flatten(),\n",
    "    Dense(128, activation='relu'),\n",
    "    Dropout(0.4),\n",
    "    Dense(1, activation='sigmoid')\n",
    "])\n",
    "\n",
    "model.compile(loss='binary_crossentropy',\n",
    "              optimizer=Adam(learning_rate=0.0001),\n",
    "              metrics=['accuracy'])\n",
    "\n",
    "model.summary()"
   ]
  },
  {
   "cell_type": "code",
   "execution_count": null,
   "id": "f70ae4cf-7f6b-4952-ac17-2af64f120a18",
   "metadata": {},
   "outputs": [],
   "source": []
  },
  {
   "cell_type": "code",
   "execution_count": 16,
   "id": "c91410c9-2bb7-4cec-b1ba-7fb7c659dc19",
   "metadata": {},
   "outputs": [
    {
     "name": "stdout",
     "output_type": "stream",
     "text": [
      "Epoch 1/30\n",
      "\u001b[1m4/4\u001b[0m \u001b[32m━━━━━━━━━━━━━━━━━━━━\u001b[0m\u001b[37m\u001b[0m \u001b[1m4s\u001b[0m 284ms/step - accuracy: 0.5529 - loss: 39.2483 - val_accuracy: 0.8462 - val_loss: 15.5551\n",
      "Epoch 2/30\n",
      "\u001b[1m4/4\u001b[0m \u001b[32m━━━━━━━━━━━━━━━━━━━━\u001b[0m\u001b[37m\u001b[0m \u001b[1m1s\u001b[0m 179ms/step - accuracy: 0.8717 - loss: 16.0368 - val_accuracy: 0.8462 - val_loss: 8.5065\n",
      "Epoch 3/30\n",
      "\u001b[1m4/4\u001b[0m \u001b[32m━━━━━━━━━━━━━━━━━━━━\u001b[0m\u001b[37m\u001b[0m \u001b[1m1s\u001b[0m 183ms/step - accuracy: 0.8618 - loss: 7.7057 - val_accuracy: 0.8462 - val_loss: 4.2640\n",
      "Epoch 4/30\n",
      "\u001b[1m4/4\u001b[0m \u001b[32m━━━━━━━━━━━━━━━━━━━━\u001b[0m\u001b[37m\u001b[0m \u001b[1m1s\u001b[0m 180ms/step - accuracy: 0.8049 - loss: 6.6093 - val_accuracy: 0.8462 - val_loss: 2.0987\n",
      "Epoch 5/30\n",
      "\u001b[1m4/4\u001b[0m \u001b[32m━━━━━━━━━━━━━━━━━━━━\u001b[0m\u001b[37m\u001b[0m \u001b[1m1s\u001b[0m 182ms/step - accuracy: 0.7991 - loss: 4.6682 - val_accuracy: 0.8462 - val_loss: 1.3802\n",
      "Epoch 6/30\n",
      "\u001b[1m4/4\u001b[0m \u001b[32m━━━━━━━━━━━━━━━━━━━━\u001b[0m\u001b[37m\u001b[0m \u001b[1m1s\u001b[0m 182ms/step - accuracy: 0.7538 - loss: 4.8967 - val_accuracy: 0.8462 - val_loss: 1.6452\n",
      "Epoch 7/30\n",
      "\u001b[1m4/4\u001b[0m \u001b[32m━━━━━━━━━━━━━━━━━━━━\u001b[0m\u001b[37m\u001b[0m \u001b[1m1s\u001b[0m 180ms/step - accuracy: 0.8169 - loss: 2.4632 - val_accuracy: 0.8462 - val_loss: 2.3465\n",
      "Epoch 8/30\n",
      "\u001b[1m4/4\u001b[0m \u001b[32m━━━━━━━━━━━━━━━━━━━━\u001b[0m\u001b[37m\u001b[0m \u001b[1m1s\u001b[0m 181ms/step - accuracy: 0.8393 - loss: 3.4353 - val_accuracy: 0.8462 - val_loss: 1.5169\n",
      "Epoch 9/30\n",
      "\u001b[1m4/4\u001b[0m \u001b[32m━━━━━━━━━━━━━━━━━━━━\u001b[0m\u001b[37m\u001b[0m \u001b[1m1s\u001b[0m 181ms/step - accuracy: 0.8049 - loss: 1.3723 - val_accuracy: 0.6154 - val_loss: 1.0355\n",
      "Epoch 10/30\n",
      "\u001b[1m4/4\u001b[0m \u001b[32m━━━━━━━━━━━━━━━━━━━━\u001b[0m\u001b[37m\u001b[0m \u001b[1m1s\u001b[0m 201ms/step - accuracy: 0.6516 - loss: 2.2153 - val_accuracy: 0.8462 - val_loss: 0.9030\n",
      "Epoch 11/30\n",
      "\u001b[1m4/4\u001b[0m \u001b[32m━━━━━━━━━━━━━━━━━━━━\u001b[0m\u001b[37m\u001b[0m \u001b[1m1s\u001b[0m 182ms/step - accuracy: 0.8409 - loss: 0.6298 - val_accuracy: 0.8462 - val_loss: 0.8737\n",
      "Epoch 12/30\n",
      "\u001b[1m4/4\u001b[0m \u001b[32m━━━━━━━━━━━━━━━━━━━━\u001b[0m\u001b[37m\u001b[0m \u001b[1m1s\u001b[0m 181ms/step - accuracy: 0.8467 - loss: 0.8759 - val_accuracy: 0.8462 - val_loss: 0.6665\n",
      "Epoch 13/30\n",
      "\u001b[1m4/4\u001b[0m \u001b[32m━━━━━━━━━━━━━━━━━━━━\u001b[0m\u001b[37m\u001b[0m \u001b[1m1s\u001b[0m 189ms/step - accuracy: 0.8164 - loss: 0.2655 - val_accuracy: 0.8462 - val_loss: 0.6079\n",
      "Epoch 14/30\n",
      "\u001b[1m4/4\u001b[0m \u001b[32m━━━━━━━━━━━━━━━━━━━━\u001b[0m\u001b[37m\u001b[0m \u001b[1m1s\u001b[0m 182ms/step - accuracy: 0.7496 - loss: 0.6032 - val_accuracy: 0.8462 - val_loss: 0.5053\n",
      "Epoch 15/30\n",
      "\u001b[1m4/4\u001b[0m \u001b[32m━━━━━━━━━━━━━━━━━━━━\u001b[0m\u001b[37m\u001b[0m \u001b[1m1s\u001b[0m 188ms/step - accuracy: 0.8357 - loss: 0.3908 - val_accuracy: 0.8462 - val_loss: 0.4923\n",
      "Epoch 16/30\n",
      "\u001b[1m4/4\u001b[0m \u001b[32m━━━━━━━━━━━━━━━━━━━━\u001b[0m\u001b[37m\u001b[0m \u001b[1m1s\u001b[0m 184ms/step - accuracy: 0.7966 - loss: 0.4057 - val_accuracy: 0.8462 - val_loss: 0.5337\n",
      "Epoch 17/30\n",
      "\u001b[1m4/4\u001b[0m \u001b[32m━━━━━━━━━━━━━━━━━━━━\u001b[0m\u001b[37m\u001b[0m \u001b[1m1s\u001b[0m 199ms/step - accuracy: 0.8597 - loss: 0.3383 - val_accuracy: 0.8462 - val_loss: 0.5154\n",
      "Epoch 18/30\n",
      "\u001b[1m4/4\u001b[0m \u001b[32m━━━━━━━━━━━━━━━━━━━━\u001b[0m\u001b[37m\u001b[0m \u001b[1m1s\u001b[0m 205ms/step - accuracy: 0.8967 - loss: 0.3928 - val_accuracy: 0.8462 - val_loss: 0.5235\n",
      "Epoch 19/30\n",
      "\u001b[1m4/4\u001b[0m \u001b[32m━━━━━━━━━━━━━━━━━━━━\u001b[0m\u001b[37m\u001b[0m \u001b[1m1s\u001b[0m 185ms/step - accuracy: 0.8779 - loss: 0.3710 - val_accuracy: 0.8462 - val_loss: 0.5673\n",
      "Epoch 20/30\n",
      "\u001b[1m4/4\u001b[0m \u001b[32m━━━━━━━━━━━━━━━━━━━━\u001b[0m\u001b[37m\u001b[0m \u001b[1m1s\u001b[0m 183ms/step - accuracy: 0.8842 - loss: 0.2749 - val_accuracy: 0.8462 - val_loss: 0.5575\n",
      "Epoch 21/30\n",
      "\u001b[1m4/4\u001b[0m \u001b[32m━━━━━━━━━━━━━━━━━━━━\u001b[0m\u001b[37m\u001b[0m \u001b[1m1s\u001b[0m 187ms/step - accuracy: 0.8967 - loss: 0.3028 - val_accuracy: 0.8462 - val_loss: 0.5280\n",
      "Epoch 22/30\n",
      "\u001b[1m4/4\u001b[0m \u001b[32m━━━━━━━━━━━━━━━━━━━━\u001b[0m\u001b[37m\u001b[0m \u001b[1m1s\u001b[0m 186ms/step - accuracy: 0.8967 - loss: 0.3514 - val_accuracy: 0.8462 - val_loss: 0.5195\n",
      "Epoch 23/30\n",
      "\u001b[1m4/4\u001b[0m \u001b[32m━━━━━━━━━━━━━━━━━━━━\u001b[0m\u001b[37m\u001b[0m \u001b[1m1s\u001b[0m 182ms/step - accuracy: 0.8884 - loss: 0.3935 - val_accuracy: 0.8462 - val_loss: 0.5265\n",
      "Epoch 24/30\n",
      "\u001b[1m4/4\u001b[0m \u001b[32m━━━━━━━━━━━━━━━━━━━━\u001b[0m\u001b[37m\u001b[0m \u001b[1m1s\u001b[0m 181ms/step - accuracy: 0.8467 - loss: 0.3267 - val_accuracy: 0.8462 - val_loss: 0.5234\n",
      "Epoch 25/30\n",
      "\u001b[1m4/4\u001b[0m \u001b[32m━━━━━━━━━━━━━━━━━━━━\u001b[0m\u001b[37m\u001b[0m \u001b[1m1s\u001b[0m 181ms/step - accuracy: 0.8842 - loss: 0.3841 - val_accuracy: 0.8462 - val_loss: 0.4897\n",
      "Epoch 26/30\n",
      "\u001b[1m4/4\u001b[0m \u001b[32m━━━━━━━━━━━━━━━━━━━━\u001b[0m\u001b[37m\u001b[0m \u001b[1m1s\u001b[0m 190ms/step - accuracy: 0.8842 - loss: 0.5739 - val_accuracy: 0.8462 - val_loss: 0.5362\n",
      "Epoch 27/30\n",
      "\u001b[1m4/4\u001b[0m \u001b[32m━━━━━━━━━━━━━━━━━━━━\u001b[0m\u001b[37m\u001b[0m \u001b[1m1s\u001b[0m 185ms/step - accuracy: 0.8779 - loss: 0.3121 - val_accuracy: 0.8462 - val_loss: 0.5437\n",
      "Epoch 28/30\n",
      "\u001b[1m4/4\u001b[0m \u001b[32m━━━━━━━━━━━━━━━━━━━━\u001b[0m\u001b[37m\u001b[0m \u001b[1m1s\u001b[0m 177ms/step - accuracy: 0.8821 - loss: 0.3842 - val_accuracy: 0.8462 - val_loss: 0.5101\n",
      "Epoch 29/30\n",
      "\u001b[1m4/4\u001b[0m \u001b[32m━━━━━━━━━━━━━━━━━━━━\u001b[0m\u001b[37m\u001b[0m \u001b[1m1s\u001b[0m 185ms/step - accuracy: 0.8779 - loss: 0.2856 - val_accuracy: 0.8462 - val_loss: 0.4895\n",
      "Epoch 30/30\n",
      "\u001b[1m4/4\u001b[0m \u001b[32m━━━━━━━━━━━━━━━━━━━━\u001b[0m\u001b[37m\u001b[0m \u001b[1m1s\u001b[0m 183ms/step - accuracy: 0.9071 - loss: 0.3671 - val_accuracy: 0.8462 - val_loss: 0.5289\n"
     ]
    }
   ],
   "source": [
    "# model trauining\n",
    "\n",
    "history = model.fit(X_train, y_train,\n",
    "                    epochs=30,\n",
    "                    batch_size=16,\n",
    "                    validation_data=(X_test, y_test))"
   ]
  },
  {
   "cell_type": "code",
   "execution_count": 19,
   "id": "c0e69078-c0f7-48eb-a93b-eb7fce834803",
   "metadata": {},
   "outputs": [
    {
     "data": {
      "text/plain": [
       "{'accuracy': [0.5490196347236633,\n",
       "  0.8823529481887817,\n",
       "  0.8627451062202454,\n",
       "  0.8039215803146362,\n",
       "  0.7843137383460999,\n",
       "  0.7647058963775635,\n",
       "  0.8235294222831726,\n",
       "  0.843137264251709,\n",
       "  0.8039215803146362,\n",
       "  0.686274528503418,\n",
       "  0.8627451062202454,\n",
       "  0.8823529481887817,\n",
       "  0.843137264251709,\n",
       "  0.7647058963775635,\n",
       "  0.8235294222831726,\n",
       "  0.8039215803146362,\n",
       "  0.8627451062202454,\n",
       "  0.8823529481887817,\n",
       "  0.8823529481887817,\n",
       "  0.8823529481887817,\n",
       "  0.8823529481887817,\n",
       "  0.8823529481887817,\n",
       "  0.8823529481887817,\n",
       "  0.8823529481887817,\n",
       "  0.8823529481887817,\n",
       "  0.8823529481887817,\n",
       "  0.8823529481887817,\n",
       "  0.8823529481887817,\n",
       "  0.8823529481887817,\n",
       "  0.8823529481887817],\n",
       " 'loss': [43.75067901611328,\n",
       "  15.183518409729004,\n",
       "  7.269059181213379,\n",
       "  7.114658832550049,\n",
       "  5.286778926849365,\n",
       "  4.589427947998047,\n",
       "  2.361647844314575,\n",
       "  3.0366103649139404,\n",
       "  1.5182827711105347,\n",
       "  1.9325833320617676,\n",
       "  0.5404597520828247,\n",
       "  0.6465384364128113,\n",
       "  0.24773262441158295,\n",
       "  0.49247995018959045,\n",
       "  0.47652778029441833,\n",
       "  0.3987690508365631,\n",
       "  0.3301176428794861,\n",
       "  0.43084073066711426,\n",
       "  0.34638917446136475,\n",
       "  0.2885439395904541,\n",
       "  0.317963570356369,\n",
       "  0.36298251152038574,\n",
       "  0.40305763483047485,\n",
       "  0.32018348574638367,\n",
       "  0.39085522294044495,\n",
       "  0.5361863374710083,\n",
       "  0.30702802538871765,\n",
       "  0.33869054913520813,\n",
       "  0.3148098289966583,\n",
       "  0.4005196988582611],\n",
       " 'val_accuracy': [0.8461538553237915,\n",
       "  0.8461538553237915,\n",
       "  0.8461538553237915,\n",
       "  0.8461538553237915,\n",
       "  0.8461538553237915,\n",
       "  0.8461538553237915,\n",
       "  0.8461538553237915,\n",
       "  0.8461538553237915,\n",
       "  0.6153846383094788,\n",
       "  0.8461538553237915,\n",
       "  0.8461538553237915,\n",
       "  0.8461538553237915,\n",
       "  0.8461538553237915,\n",
       "  0.8461538553237915,\n",
       "  0.8461538553237915,\n",
       "  0.8461538553237915,\n",
       "  0.8461538553237915,\n",
       "  0.8461538553237915,\n",
       "  0.8461538553237915,\n",
       "  0.8461538553237915,\n",
       "  0.8461538553237915,\n",
       "  0.8461538553237915,\n",
       "  0.8461538553237915,\n",
       "  0.8461538553237915,\n",
       "  0.8461538553237915,\n",
       "  0.8461538553237915,\n",
       "  0.8461538553237915,\n",
       "  0.8461538553237915,\n",
       "  0.8461538553237915,\n",
       "  0.8461538553237915],\n",
       " 'val_loss': [15.555108070373535,\n",
       "  8.506497383117676,\n",
       "  4.264018535614014,\n",
       "  2.098707675933838,\n",
       "  1.3801662921905518,\n",
       "  1.645185947418213,\n",
       "  2.3465325832366943,\n",
       "  1.5168668031692505,\n",
       "  1.035513162612915,\n",
       "  0.902995765209198,\n",
       "  0.8736859560012817,\n",
       "  0.6664972305297852,\n",
       "  0.6078546047210693,\n",
       "  0.5053314566612244,\n",
       "  0.4923160970211029,\n",
       "  0.5337332487106323,\n",
       "  0.5153819918632507,\n",
       "  0.5234840512275696,\n",
       "  0.5673290491104126,\n",
       "  0.5574749708175659,\n",
       "  0.5279686450958252,\n",
       "  0.5195392966270447,\n",
       "  0.5264899730682373,\n",
       "  0.5234261751174927,\n",
       "  0.4897369146347046,\n",
       "  0.5361748933792114,\n",
       "  0.5437292456626892,\n",
       "  0.5101339221000671,\n",
       "  0.48953717947006226,\n",
       "  0.52888423204422]}"
      ]
     },
     "execution_count": 19,
     "metadata": {},
     "output_type": "execute_result"
    }
   ],
   "source": [
    "model.history.history           #loss"
   ]
  },
  {
   "cell_type": "code",
   "execution_count": null,
   "id": "1c552bd0-8c3e-4575-ba69-1f5c06381c50",
   "metadata": {},
   "outputs": [],
   "source": []
  },
  {
   "cell_type": "code",
   "execution_count": 20,
   "id": "cc718b3b-bcec-499c-a59e-d28dc2e677a8",
   "metadata": {},
   "outputs": [
    {
     "data": {
      "text/plain": [
       "Text(0.5, 1.0, 'Accuracy Over Epochs')"
      ]
     },
     "execution_count": 20,
     "metadata": {},
     "output_type": "execute_result"
    },
    {
     "data": {
      "image/png": "[encoded data removed]",
      "text/plain": [
       "<Figure size 1200x400 with 1 Axes>"
      ]
     },
     "metadata": {},
     "output_type": "display_data"
    }
   ],
   "source": [
    "plt.figure(figsize=(12, 4))\n",
    "plt.subplot(1, 2, 1)\n",
    "plt.plot(history.history['accuracy'], label=\"Train Acc\")\n",
    "plt.plot(history.history['val_accuracy'], label=\"Val Acc\")\n",
    "plt.legend()\n",
    "plt.title(\"Accuracy Over Epochs\")"
   ]
  },
  {
   "cell_type": "code",
   "execution_count": 21,
   "id": "8cd765c6-bf38-4642-b621-52583555a00e",
   "metadata": {},
   "outputs": [
    {
     "data": {
      "image/png": "[encoded data removed]",
      "text/plain": [
       "<Figure size 640x480 with 1 Axes>"
      ]
     },
     "metadata": {},
     "output_type": "display_data"
    }
   ],
   "source": [
    "plt.subplot(1, 2, 2)\n",
    "plt.plot(history.history['loss'], label=\"Train Loss\")\n",
    "plt.plot(history.history['val_loss'], label=\"Val Loss\")\n",
    "plt.legend()\n",
    "plt.title(\"Loss Over Epochs\")\n",
    "plt.show()"
   ]
  },
  {
   "cell_type": "code",
   "execution_count": null,
   "id": "6ff73e9e-479a-46f2-a1b9-11ab973b87da",
   "metadata": {},
   "outputs": [],
   "source": []
  },
  {
   "cell_type": "code",
   "execution_count": 22,
   "id": "8bad5347-498e-4287-aaa6-efec445c1fff",
   "metadata": {},
   "outputs": [
    {
     "name": "stdout",
     "output_type": "stream",
     "text": [
      "\u001b[1m1/1\u001b[0m \u001b[32m━━━━━━━━━━━━━━━━━━━━\u001b[0m\u001b[37m\u001b[0m \u001b[1m0s\u001b[0m 117ms/step\n",
      "\n",
      "Classification Report:\n",
      "               precision    recall  f1-score   support\n",
      "\n",
      "           0       0.00      0.00      0.00         2\n",
      "           1       0.85      1.00      0.92        11\n",
      "\n",
      "    accuracy                           0.85        13\n",
      "   macro avg       0.42      0.50      0.46        13\n",
      "weighted avg       0.72      0.85      0.78        13\n",
      "\n"
     ]
    },
    {
     "name": "stderr",
     "output_type": "stream",
     "text": [
      "C:\\Program Files\\Drag Software\\Anaconda\\Lib\\site-packages\\sklearn\\metrics\\_classification.py:1509: UndefinedMetricWarning: Precision is ill-defined and being set to 0.0 in labels with no predicted samples. Use `zero_division` parameter to control this behavior.\n",
      "  _warn_prf(average, modifier, f\"{metric.capitalize()} is\", len(result))\n",
      "C:\\Program Files\\Drag Software\\Anaconda\\Lib\\site-packages\\sklearn\\metrics\\_classification.py:1509: UndefinedMetricWarning: Precision is ill-defined and being set to 0.0 in labels with no predicted samples. Use `zero_division` parameter to control this behavior.\n",
      "  _warn_prf(average, modifier, f\"{metric.capitalize()} is\", len(result))\n",
      "C:\\Program Files\\Drag Software\\Anaconda\\Lib\\site-packages\\sklearn\\metrics\\_classification.py:1509: UndefinedMetricWarning: Precision is ill-defined and being set to 0.0 in labels with no predicted samples. Use `zero_division` parameter to control this behavior.\n",
      "  _warn_prf(average, modifier, f\"{metric.capitalize()} is\", len(result))\n"
     ]
    }
   ],
   "source": [
    "# model evaluation\n",
    "\n",
    "y_pred = model.predict(X_test)\n",
    "y_pred_labels = (y_pred > 0.5).astype(int)\n",
    "\n",
    "print(\"\\nClassification Report:\\n\", classification_report(y_test, y_pred_labels))"
   ]
  },
  {
   "cell_type": "code",
   "execution_count": 23,
   "id": "6db6fff4-604a-442e-82b2-a5db1f963a83",
   "metadata": {},
   "outputs": [
    {
     "data": {
      "image/png": "[encoded data removed]",
      "text/plain": [
       "<Figure size 640x480 with 2 Axes>"
      ]
     },
     "metadata": {},
     "output_type": "display_data"
    }
   ],
   "source": [
    "conf_matrix = confusion_matrix(y_test, y_pred_labels)\n",
    "sns.heatmap(conf_matrix, annot=True, fmt='d', cmap='Blues')\n",
    "plt.title(\"Confusion Matrix\")\n",
    "plt.xlabel(\"Predicted\")\n",
    "plt.ylabel(\"Actual\")\n",
    "plt.show()"
   ]
  },
  {
   "cell_type": "code",
   "execution_count": 24,
   "id": "339f9ada-249f-4a03-becd-3d1cb9be9d88",
   "metadata": {},
   "outputs": [
    {
     "name": "stderr",
     "output_type": "stream",
     "text": [
      "WARNING:absl:You are saving your model as an HDF5 file via `model.save()` or `keras.saving.save_model(model)`. This file format is considered legacy. We recommend using instead the native Keras format, e.g. `model.save('my_model.keras')` or `keras.saving.save_model(model, 'my_model.keras')`. \n"
     ]
    }
   ],
   "source": [
    "model.save('deepfake_voice_detection_model.h5')"
   ]
  },
  {
   "cell_type": "code",
   "execution_count": null,
   "id": "0aff8331-1523-4f40-8dc0-1184c8ec212d",
   "metadata": {},
   "outputs": [],
   "source": []
  },
  {
   "cell_type": "code",
   "execution_count": null,
   "id": "b0a8ab8a-c01a-4ccd-9b64-bc990b9e222a",
   "metadata": {},
   "outputs": [],
   "source": []
  },
  {
   "cell_type": "code",
   "execution_count": 25,
   "id": "936197f7-6995-421c-95d6-3e7e6f506690",
   "metadata": {},
   "outputs": [
    {
     "name": "stdout",
     "output_type": "stream",
     "text": [
      "\u001b[1m1/1\u001b[0m \u001b[32m━━━━━━━━━━━━━━━━━━━━\u001b[0m\u001b[37m\u001b[0m \u001b[1m0s\u001b[0m 189ms/step\n",
      "The audio is predicted to be: Fake\n"
     ]
    }
   ],
   "source": [
    "new_sample = extract_features(r\"C:\\Users\\101ri\\OneDrive\\Desktop\\New DeepFake\\audio_fake\\AUDIO\\FAKE\\biden-to-linus.wav\")\n",
    "if new_sample is not None:\n",
    "    new_sample = new_sample[np.newaxis, ..., np.newaxis]\n",
    "    prediction = model.predict(new_sample)\n",
    "    label = 'Fake' if prediction > 0.5 else 'Real'\n",
    "    print(f'The audio is predicted to be: {label}')"
   ]
  },
  {
   "cell_type": "code",
   "execution_count": null,
   "id": "94a18ea4-2f45-445a-9f36-d858c02d9dd9",
   "metadata": {},
   "outputs": [],
   "source": []
  }
 ],
 "metadata": {
  "kernelspec": {
   "display_name": "Python 3 (ipykernel)",
   "language": "python",
   "name": "python3"
  },
  "language_info": {
   "codemirror_mode": {
    "name": "ipython",
    "version": 3
   },
   "file_extension": ".py",
   "mimetype": "text/x-python",
   "name": "python",
   "nbconvert_exporter": "python",
   "pygments_lexer": "ipython3",
   "version": "3.12.4"
  }
 },
 "nbformat": 4,
 "nbformat_minor": 5
}
